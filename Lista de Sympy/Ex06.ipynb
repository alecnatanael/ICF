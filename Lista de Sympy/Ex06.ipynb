{
 "cells": [
  {
   "cell_type": "code",
   "execution_count": 43,
   "metadata": {},
   "outputs": [],
   "source": [
    "import sympy as sp\n",
    "sp.init_printing(order='grlex')\n",
    "\n",
    "rho, r0, k, t, g= sp.symbols('rho, r0, k, t, g')\n",
    "\n",
    "v = sp.Function('v')\n",
    "r = sp.Function('r')"
   ]
  },
  {
   "cell_type": "code",
   "execution_count": 44,
   "metadata": {},
   "outputs": [
    {
     "data": {
      "image/png": "[encoded data removed]",
      "text/latex": [
       "$\\displaystyle \\frac{d}{d t} v{\\left(t \\right)} + \\frac{3 k v{\\left(t \\right)}}{\\rho \\left(\\frac{k t}{\\rho} + r_{0}\\right)} = g$"
      ],
      "text/plain": [
       "d            3⋅k⋅v(t)      \n",
       "──(v(t)) + ──────────── = g\n",
       "dt           ⎛k⋅t     ⎞    \n",
       "           ρ⋅⎜─── + r₀⎟    \n",
       "             ⎝ ρ      ⎠    "
      ]
     },
     "execution_count": 44,
     "metadata": {},
     "output_type": "execute_result"
    }
   ],
   "source": [
    "eq = sp.Eq(v(t).diff(t,1) + 3*(k/rho)*v(t)/((k/rho)*t + r0), g)\n",
    "\n",
    "eq"
   ]
  },
  {
   "cell_type": "code",
   "execution_count": 45,
   "metadata": {},
   "outputs": [
    {
     "data": {
      "image/png": "[encoded data removed]",
      "text/latex": [
       "$\\displaystyle v{\\left(t \\right)} = \\frac{\\frac{g k^{3} t^{4}}{4} + g k^{2} r_{0} \\rho t^{3} + \\frac{3 g k r_{0}^{2} \\rho^{2} t^{2}}{2} + g r_{0}^{3} \\rho^{3} t}{k^{3} t^{3} + 3 k^{2} r_{0} \\rho t^{2} + 3 k r_{0}^{2} \\rho^{2} t + r_{0}^{3} \\rho^{3}}$"
      ],
      "text/plain": [
       "          3  4                          2  2  2             \n",
       "       g⋅k ⋅t       2       3   3⋅g⋅k⋅r₀ ⋅ρ ⋅t        3  3  \n",
       "       ─────── + g⋅k ⋅r₀⋅ρ⋅t  + ─────────────── + g⋅r₀ ⋅ρ ⋅t\n",
       "          4                            2                    \n",
       "v(t) = ─────────────────────────────────────────────────────\n",
       "             3  3      2       2         2  2       3  3    \n",
       "            k ⋅t  + 3⋅k ⋅r₀⋅ρ⋅t  + 3⋅k⋅r₀ ⋅ρ ⋅t + r₀ ⋅ρ     "
      ]
     },
     "execution_count": 45,
     "metadata": {},
     "output_type": "execute_result"
    }
   ],
   "source": [
    "sol = sp.dsolve(eq, ics={v(0):0})\n",
    "\n",
    "sol"
   ]
  },
  {
   "cell_type": "code",
   "execution_count": 46,
   "metadata": {},
   "outputs": [
    {
     "data": {
      "image/png": "[encoded data removed]",
      "text/latex": [
       "$\\displaystyle 4 \\pi \\rho r^{2}{\\left(t \\right)} \\frac{d}{d t} r{\\left(t \\right)} = 4 \\pi k r^{2}{\\left(t \\right)}$"
      ],
      "text/plain": [
       "       2    d                 2   \n",
       "4⋅π⋅ρ⋅r (t)⋅──(r(t)) = 4⋅π⋅k⋅r (t)\n",
       "            dt                    "
      ]
     },
     "execution_count": 46,
     "metadata": {},
     "output_type": "execute_result"
    }
   ],
   "source": [
    "#Calculando r(t)\n",
    "\n",
    "eq2 = sp.Eq(rho*((4*sp.pi)/3)*(r(t)**3).diff(t,1), k*4*sp.pi*(r(t)**2))\n",
    "eq2"
   ]
  },
  {
   "cell_type": "code",
   "execution_count": 47,
   "metadata": {},
   "outputs": [
    {
     "data": {
      "image/png": "[encoded data removed]",
      "text/latex": [
       "$\\displaystyle r{\\left(t \\right)} = \\frac{k t}{\\rho} + r_{0}$"
      ],
      "text/plain": [
       "       k⋅t     \n",
       "r(t) = ─── + r₀\n",
       "        ρ      "
      ]
     },
     "execution_count": 47,
     "metadata": {},
     "output_type": "execute_result"
    }
   ],
   "source": [
    "sol2 = sp.dsolve(eq2, ics={r(0):r0})\n",
    "sol2"
   ]
  },
  {
   "cell_type": "code",
   "execution_count": 48,
   "metadata": {},
   "outputs": [
    {
     "data": {
      "image/png": "[encoded data removed]",
      "text/latex": [
       "$\\displaystyle r{\\left(10 \\right)} = 0.002$"
      ],
      "text/plain": [
       "r(10) = 0.002"
      ]
     },
     "execution_count": 48,
     "metadata": {},
     "output_type": "execute_result"
    }
   ],
   "source": [
    "# Calculando r(t) após 10 segundos\n",
    "\n",
    "res = sol2.subs({t:10, rho:1, r0:0.0025, k:-0.00005})\n",
    "res"
   ]
  }
 ],
 "metadata": {
  "kernelspec": {
   "display_name": "Python 3 (ipykernel)",
   "language": "python",
   "name": "python3"
  },
  "language_info": {
   "codemirror_mode": {
    "name": "ipython",
    "version": 3
   },
   "file_extension": ".py",
   "mimetype": "text/x-python",
   "name": "python",
   "nbconvert_exporter": "python",
   "pygments_lexer": "ipython3",
   "version": "3.11.7"
  }
 },
 "nbformat": 4,
 "nbformat_minor": 2
}
