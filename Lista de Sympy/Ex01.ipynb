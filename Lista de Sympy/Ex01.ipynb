{
 "cells": [
  {
   "cell_type": "code",
   "execution_count": 22,
   "metadata": {},
   "outputs": [],
   "source": [
    "import sympy as sp\n",
    "sp.init_printing()\n",
    "\n",
    "#Simbolos\n",
    "x, a = sp.symbols('x, alpha')"
   ]
  },
  {
   "cell_type": "code",
   "execution_count": 7,
   "metadata": {},
   "outputs": [
    {
     "data": {
      "image/png": "[encoded data removed]",
      "text/latex": [
       "$\\displaystyle \\left[ -1 + \\sqrt{2}, \\  - \\sqrt{2} - 1\\right]$"
      ],
      "text/plain": [
       "[-1 + √2, -√2 - 1]"
      ]
     },
     "execution_count": 7,
     "metadata": {},
     "output_type": "execute_result"
    }
   ],
   "source": [
    "#Letra a) Raízes da Equação\n",
    "eq = sp.Eq(((x-2)**2) + 6*x - 5, 0)\n",
    "\n",
    "sol = sp.solve(eq)\n",
    "sol"
   ]
  },
  {
   "cell_type": "code",
   "execution_count": 20,
   "metadata": {},
   "outputs": [
    {
     "data": {
      "image/png": "[encoded data removed]",
      "text/latex": [
       "$\\displaystyle \\frac{d^{2}}{d x^{2}} f{\\left(x \\right)} = - 2 e^{- x} \\cos{\\left(x \\right)} - \\frac{\\cos{\\left(x \\right)}}{\\left(x - 3\\right)^{4}} + \\frac{8 \\sin{\\left(x \\right)}}{\\left(x - 3\\right)^{5}} + \\frac{20 \\cos{\\left(x \\right)}}{\\left(x - 3\\right)^{6}}$"
      ],
      "text/plain": [
       "  2                                                         \n",
       " d               -x           cos(x)    8⋅sin(x)   20⋅cos(x)\n",
       "───(f(x)) = - 2⋅ℯ  ⋅cos(x) - ──────── + ──────── + ─────────\n",
       "  2                                 4          5           6\n",
       "dx                           (x - 3)    (x - 3)     (x - 3) "
      ]
     },
     "execution_count": 20,
     "metadata": {},
     "output_type": "execute_result"
    }
   ],
   "source": [
    "#Letra b) Derivadas de primeira e segunda ordem da função:\n",
    "\n",
    "f = sp.Function(\"f\")(x)\n",
    "eq = (sp.sin(x))*(sp.E)**(-x) + sp.cos(x)/(x-3)**4\n",
    "\n",
    "\n",
    "d1 = sp.Eq(f.diff(x), eq.diff(x))\n",
    "d1\n",
    "\n",
    "d2 = sp.Eq(f.diff(x,x), eq.diff(x,x))\n",
    "d2"
   ]
  },
  {
   "cell_type": "code",
   "execution_count": 31,
   "metadata": {},
   "outputs": [
    {
     "data": {
      "text/latex": [
       "$\\displaystyle \\begin{cases} - \\frac{x e^{- \\alpha x^{2}}}{2 \\alpha} + \\frac{\\sqrt{\\pi} \\operatorname{erf}{\\left(\\sqrt{\\alpha} x \\right)}}{4 \\alpha^{\\frac{3}{2}}} & \\text{for}\\: \\alpha \\neq 0 \\\\\\frac{x^{3}}{3} & \\text{otherwise} \\end{cases}$"
      ],
      "text/plain": [
       "⎧         2                          \n",
       "⎪     -α⋅x                           \n",
       "⎪  x⋅ℯ        √π⋅erf(√α⋅x)           \n",
       "⎪- ──────── + ────────────  for α ≠ 0\n",
       "⎪    2⋅α            3/2              \n",
       "⎨                4⋅α                 \n",
       "⎪                                    \n",
       "⎪            3                       \n",
       "⎪           x                        \n",
       "⎪           ──              otherwise\n",
       "⎩           3                        "
      ]
     },
     "execution_count": 31,
     "metadata": {},
     "output_type": "execute_result"
    }
   ],
   "source": [
    "#Letra c) A integral:\n",
    "\n",
    "f = (x**2)*(sp.E**((-a)*(x**2)))\n",
    "f\n",
    "\n",
    "sp.integrate(f, (x))"
   ]
  },
  {
   "cell_type": "code",
   "execution_count": 37,
   "metadata": {},
   "outputs": [
    {
     "data": {
      "image/png": "[encoded data removed]",
      "text/latex": [
       "$\\displaystyle 1$"
      ],
      "text/plain": [
       "1"
      ]
     },
     "execution_count": 37,
     "metadata": {},
     "output_type": "execute_result"
    }
   ],
   "source": [
    "#Letra d) Os limites\n",
    "\n",
    "f = (1 + 1/x)**x\n",
    "sp.limit(f, x, sp.oo)\n",
    "\n",
    "g = sp.sin(x)/x\n",
    "sp.limit(g, x, 0)"
   ]
  },
  {
   "cell_type": "code",
   "execution_count": 45,
   "metadata": {},
   "outputs": [
    {
     "data": {
      "image/png": "[encoded data removed]",
      "text/latex": [
       "$\\displaystyle 2 + x^{2} - \\frac{4 x^{3}}{3} + \\frac{5 x^{4}}{6} - \\frac{31 x^{5}}{30} + x^{6} - \\frac{629 x^{7}}{630} + O\\left(x^{8}\\right)$"
      ],
      "text/plain": [
       "            3      4       5             7        \n",
       "     2   4⋅x    5⋅x    31⋅x     6   629⋅x     ⎛ 8⎞\n",
       "2 + x  - ──── + ──── - ───── + x  - ────── + O⎝x ⎠\n",
       "          3      6       30          630          "
      ]
     },
     "execution_count": 45,
     "metadata": {},
     "output_type": "execute_result"
    }
   ],
   "source": [
    "#Letra e) A expansão em série das funções (até ordem 8):\n",
    "\n",
    "f1 = sp.cos(x)\n",
    "s1 = f1.series(x,n=8)\n",
    "\n",
    "f2 = sp.E**(2*x)\n",
    "s2 = f2.series(x,n=8)\n",
    "\n",
    "f3 = (sp.E**x)*sp.cos(x) + 1/(1+x)\n",
    "s3 = f3.series(x,n=8)\n"
   ]
  }
 ],
 "metadata": {
  "kernelspec": {
   "display_name": "Python 3 (ipykernel)",
   "language": "python",
   "name": "python3"
  }
 },
 "nbformat": 4,
 "nbformat_minor": 2
}
