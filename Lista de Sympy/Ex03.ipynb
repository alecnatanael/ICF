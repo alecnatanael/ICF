{
 "cells": [
  {
   "cell_type": "code",
   "execution_count": 9,
   "metadata": {},
   "outputs": [],
   "source": [
    "import sympy as sp\n",
    "sp.init_printing()\n",
    "\n",
    "r, t, k, m, theta, v0, g, y, x = sp.symbols(\"r, t, k, m, theta, v0, g, y, x\")\n",
    "\n",
    "fx = sp.Function(\"x\")\n",
    "fy = sp.Function(\"y\")\n",
    "ft = sp.Function(\"t\")\n",
    "vy = sp.Function(\"Vy\")\n"
   ]
  },
  {
   "cell_type": "code",
   "execution_count": 10,
   "metadata": {},
   "outputs": [
    {
     "data": {
      "image/png": "[encoded data removed]",
      "text/latex": [
       "$\\displaystyle \\frac{d^{2}}{d t^{2}} x{\\left(t \\right)} = - k \\frac{d}{d t} x{\\left(t \\right)}$"
      ],
      "text/plain": [
       "  2                    \n",
       " d             d       \n",
       "───(x(t)) = -k⋅──(x(t))\n",
       "  2            dt      \n",
       "dt                     "
      ]
     },
     "execution_count": 10,
     "metadata": {},
     "output_type": "execute_result"
    }
   ],
   "source": [
    "#Equação do eixo x\n",
    "eqFx = (-k)*fx(t).diff(t,1)\n",
    "eqFx\n",
    "\n",
    "eqx = sp.Eq(fx(t).diff(t, 2), eqFx)\n",
    "eqx"
   ]
  },
  {
   "cell_type": "code",
   "execution_count": 11,
   "metadata": {},
   "outputs": [
    {
     "data": {
      "image/png": "[encoded data removed]",
      "text/latex": [
       "$\\displaystyle x{\\left(t \\right)} = \\frac{v_{0} \\cos{\\left(\\theta \\right)}}{k} - \\frac{v_{0} e^{- k t} \\cos{\\left(\\theta \\right)}}{k}$"
      ],
      "text/plain": [
       "                       -k⋅t       \n",
       "       v₀⋅cos(θ)   v₀⋅ℯ    ⋅cos(θ)\n",
       "x(t) = ───────── - ───────────────\n",
       "           k              k       "
      ]
     },
     "execution_count": 11,
     "metadata": {},
     "output_type": "execute_result"
    }
   ],
   "source": [
    "# Equação de x(t)\n",
    "solx = sp.dsolve(eqx, ics={fx(0):0, fx(t).diff(t, 1).subs(t,0): v0*sp.cos(theta)})\n",
    "solx"
   ]
  },
  {
   "cell_type": "code",
   "execution_count": 12,
   "metadata": {},
   "outputs": [
    {
     "data": {
      "image/png": "[encoded data removed]",
      "text/latex": [
       "$\\displaystyle \\frac{d^{2}}{d t^{2}} y{\\left(t \\right)} = - g - k \\frac{d}{d t} y{\\left(t \\right)}$"
      ],
      "text/plain": [
       "  2                        \n",
       " d                 d       \n",
       "───(y(t)) = -g - k⋅──(y(t))\n",
       "  2                dt      \n",
       "dt                         "
      ]
     },
     "execution_count": 12,
     "metadata": {},
     "output_type": "execute_result"
    }
   ],
   "source": [
    "#Equação do eixo y\n",
    "eqFy = (-k)*fy(t).diff(t,1)\n",
    "eqFy\n",
    "\n",
    "eqy = sp.Eq(fy(t).diff(t,2), -g + eqFy)\n",
    "eqy"
   ]
  },
  {
   "cell_type": "code",
   "execution_count": 13,
   "metadata": {},
   "outputs": [
    {
     "data": {
      "image/png": "[encoded data removed]",
      "text/latex": [
       "$\\displaystyle y{\\left(t \\right)} = - \\frac{g t}{k} + \\frac{\\left(- g - k v_{0} \\sin{\\left(\\theta \\right)}\\right) e^{- k t}}{k^{2}} + \\frac{g + k v_{0} \\sin{\\left(\\theta \\right)}}{k^{2}}$"
      ],
      "text/plain": [
       "                                   -k⋅t                  \n",
       "         g⋅t   (-g - k⋅v₀⋅sin(θ))⋅ℯ       g + k⋅v₀⋅sin(θ)\n",
       "y(t) = - ─── + ──────────────────────── + ───────────────\n",
       "          k                2                      2      \n",
       "                          k                      k       "
      ]
     },
     "execution_count": 13,
     "metadata": {},
     "output_type": "execute_result"
    }
   ],
   "source": [
    "# Equação de y(t)\n",
    "soly = sp.dsolve(eqy, ics={fy(0):0, fy(t).diff(t,1).subs(t,0): v0*sp.sin(theta)})\n",
    "soly"
   ]
  },
  {
   "cell_type": "code",
   "execution_count": 26,
   "metadata": {},
   "outputs": [
    {
     "data": {
      "image/png": "[encoded data removed]",
      "text/latex": [
       "$\\displaystyle \\frac{\\log{\\left(1 + \\frac{k v_{0} \\sin{\\left(\\theta \\right)}}{g} \\right)}}{k}$"
      ],
      "text/plain": [
       "   ⎛    k⋅v₀⋅sin(θ)⎞\n",
       "log⎜1 + ───────────⎟\n",
       "   ⎝         g     ⎠\n",
       "────────────────────\n",
       "         k          "
      ]
     },
     "execution_count": 26,
     "metadata": {},
     "output_type": "execute_result"
    }
   ],
   "source": [
    "#Descobrindo o tempo de voo\n",
    "\n",
    "#Subida\n",
    "eqy2 = sp.Eq(vy(t).diff(t,1), -g -k*vy(t))\n",
    "eqy2\n",
    "\n",
    "solvys = sp.dsolve(eqy2, ics={vy(t).subs(t,0): v0*sp.sin(theta)})\n",
    "solvys = solvys.subs(vy(t), 0)\n",
    "solvys = sp.solve(solvys, t)\n",
    "solvys = solvys[0] if type(solvys) is list else solvys\n",
    "solvys"
   ]
  },
  {
   "cell_type": "code",
   "execution_count": 24,
   "metadata": {},
   "outputs": [
    {
     "data": {
      "image/png": "[encoded data removed]",
      "text/latex": [
       "$\\displaystyle \\frac{\\log{\\left(1 - \\frac{k v_{0} \\sin{\\left(\\theta \\right)}}{g} \\right)}}{k}$"
      ],
      "text/plain": [
       "   ⎛    k⋅v₀⋅sin(θ)⎞\n",
       "log⎜1 - ───────────⎟\n",
       "   ⎝         g     ⎠\n",
       "────────────────────\n",
       "         k          "
      ]
     },
     "execution_count": 24,
     "metadata": {},
     "output_type": "execute_result"
    }
   ],
   "source": [
    "#Descida\n",
    "eqy2 = sp.Eq(vy(t).diff(t,1), +g -k*vy(t))\n",
    "eqy2\n",
    "\n",
    "solvyd = sp.dsolve(eqy2, ics={vy(t).subs(t,0): v0*sp.sin(theta)})\n",
    "solvyd = solvyd.subs(vy(t), 0)\n",
    "solvyd = sp.solve(solvyd, t)\n",
    "solvyd = solvyd[0] if type(solvyd) is list else solvyd\n",
    "solvyd\n"
   ]
  },
  {
   "cell_type": "code",
   "execution_count": 27,
   "metadata": {},
   "outputs": [
    {
     "data": {
      "image/png": "[encoded data removed]",
      "text/latex": [
       "$\\displaystyle t = \\frac{\\log{\\left(1 - \\frac{k v_{0} \\sin{\\left(\\theta \\right)}}{g} \\right)}}{k} + \\frac{\\log{\\left(1 + \\frac{k v_{0} \\sin{\\left(\\theta \\right)}}{g} \\right)}}{k}$"
      ],
      "text/plain": [
       "       ⎛    k⋅v₀⋅sin(θ)⎞      ⎛    k⋅v₀⋅sin(θ)⎞\n",
       "    log⎜1 - ───────────⎟   log⎜1 + ───────────⎟\n",
       "       ⎝         g     ⎠      ⎝         g     ⎠\n",
       "t = ──────────────────── + ────────────────────\n",
       "             k                      k          "
      ]
     },
     "execution_count": 27,
     "metadata": {},
     "output_type": "execute_result"
    }
   ],
   "source": [
    "# Equação do tempo de voo é:\n",
    "\n",
    "tempodevoo = sp.Eq(t, solvys + solvyd)\n",
    "tempodevoo"
   ]
  }
 ],
 "metadata": {
  "kernelspec": {
   "display_name": "Python 3 (ipykernel)",
   "language": "python",
   "name": "python3"
  }
 },
 "nbformat": 4,
 "nbformat_minor": 2
}
