{
 "cells": [
  {
   "cell_type": "code",
   "execution_count": 127,
   "metadata": {},
   "outputs": [],
   "source": [
    "import sympy as sp\n",
    "sp.init_printing()\n",
    "\n",
    "k, Ta, T0, t= sp.symbols(\"k, Ta, T0, t\")\n",
    "\n",
    "T = sp.Function(\"T\")\n"
   ]
  },
  {
   "cell_type": "code",
   "execution_count": 135,
   "metadata": {},
   "outputs": [
    {
     "data": {
      "image/png": "[encoded data removed]",
      "text/latex": [
       "$\\displaystyle \\frac{d}{d t} T{\\left(t \\right)} = k \\left(T_{0} - Ta\\right)$"
      ],
      "text/plain": [
       "d                     \n",
       "──(T(t)) = k⋅(T₀ - Ta)\n",
       "dt                    "
      ]
     },
     "execution_count": 135,
     "metadata": {},
     "output_type": "execute_result"
    }
   ],
   "source": [
    "eq = sp.Eq(T(t).diff(t,1),k*(T0-Ta))\n",
    "\n",
    "'''\n",
    "variacao = eq.subs([(T0,110), (Ta,23), (k,-0.4)])# variação graus celsius por minuto\n",
    "variacao\n",
    "'''\n",
    "eq"
   ]
  },
  {
   "cell_type": "code",
   "execution_count": 137,
   "metadata": {},
   "outputs": [
    {
     "data": {
      "image/png": "[encoded data removed]",
      "text/latex": [
       "$\\displaystyle T{\\left(t \\right)} = 110 - 34.8 t$"
      ],
      "text/plain": [
       "T(t) = 110 - 34.8⋅t"
      ]
     },
     "execution_count": 137,
     "metadata": {},
     "output_type": "execute_result"
    }
   ],
   "source": [
    "eq2 = sp.dsolve(eq.subs([(T0,110), (Ta,23), (k,-0.4)]), ics={T(0):110})\n",
    "eq2"
   ]
  },
  {
   "cell_type": "code",
   "execution_count": 138,
   "metadata": {},
   "outputs": [
    {
     "data": {
      "image/png": "[encoded data removed]",
      "text/latex": [
       "$\\displaystyle \\left[ 2.5\\right]$"
      ],
      "text/plain": [
       "[2.5]"
      ]
     },
     "execution_count": 138,
     "metadata": {},
     "output_type": "execute_result"
    }
   ],
   "source": [
    "eq2 = eq2.subs(T(t), 23)\n",
    "sol = sp.solve(eq2)\n",
    "sol"
   ]
  }
 ],
 "metadata": {
  "kernelspec": {
   "display_name": "Python 3 (ipykernel)",
   "language": "python",
   "name": "python3"
  },
  "language_info": {
   "codemirror_mode": {
    "name": "ipython",
    "version": 3
   },
   "file_extension": ".py",
   "mimetype": "text/x-python",
   "name": "python",
   "nbconvert_exporter": "python",
   "pygments_lexer": "ipython3",
   "version": "3.11.7"
  }
 },
 "nbformat": 4,
 "nbformat_minor": 2
}
