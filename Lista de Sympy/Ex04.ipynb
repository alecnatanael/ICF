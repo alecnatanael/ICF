{
 "cells": [
  {
   "cell_type": "code",
   "execution_count": 6,
   "metadata": {},
   "outputs": [
    {
     "data": {
      "image/png": "[encoded data removed]",
      "text/latex": [
       "$\\displaystyle x{\\left(t \\right)} = \\left(A \\cos{\\left(\\sqrt{3} t \\right)} + B \\sin{\\left(\\sqrt{3} t \\right)}\\right) e^{- t}$"
      ],
      "text/plain": [
       "                                    -t\n",
       "x(t) = (A⋅cos(√3⋅t) + B⋅sin(√3⋅t))⋅ℯ  "
      ]
     },
     "execution_count": 6,
     "metadata": {},
     "output_type": "execute_result"
    }
   ],
   "source": [
    "import sympy as sp\n",
    "sp.init_printing()\n",
    "\n",
    "#Simbolos\n",
    "A, B, t = sp.symbols(\"A, B, t\")\n",
    "\n",
    "#Função\n",
    "x = sp.Function(\"x\")\n",
    "a = sp.Function(\"a\")\n",
    "\n",
    "#Equação da posição\n",
    "eqx = sp.Eq(x(t), (sp.E**(-t))*((A*sp.cos((sp.sqrt(12)/2)*t)) + B*sp.sin((sp.sqrt(12)/2)*t)))\n",
    "eqx"
   ]
  },
  {
   "cell_type": "code",
   "execution_count": 24,
   "metadata": {},
   "outputs": [
    {
     "data": {
      "image/png": "[encoded data removed]",
      "text/latex": [
       "$\\displaystyle \\frac{d^{2}}{d t^{2}} x{\\left(t \\right)} = 2 \\left(- A \\cos{\\left(\\sqrt{3} t \\right)} - B \\sin{\\left(\\sqrt{3} t \\right)} + \\sqrt{3} \\left(A \\sin{\\left(\\sqrt{3} t \\right)} - B \\cos{\\left(\\sqrt{3} t \\right)}\\right)\\right) e^{- t}$"
      ],
      "text/plain": [
       "  2                                                                           \n",
       " d                                                                           -\n",
       "───(x(t)) = 2⋅(-A⋅cos(√3⋅t) - B⋅sin(√3⋅t) + √3⋅(A⋅sin(√3⋅t) - B⋅cos(√3⋅t)))⋅ℯ \n",
       "  2                                                                           \n",
       "dt                                                                            \n",
       "\n",
       " \n",
       "t\n",
       " \n",
       " \n",
       " "
      ]
     },
     "execution_count": 24,
     "metadata": {},
     "output_type": "execute_result"
    }
   ],
   "source": [
    "#Equação da aceleração é a derivada segunda de x(t)\n",
    "eqa = sp.Eq(x(t).diff(t,2),eqx.rhs.diff(t,2))\n",
    "eqa"
   ]
  },
  {
   "cell_type": "code",
   "execution_count": 25,
   "metadata": {},
   "outputs": [
    {
     "data": {
      "image/png": "[encoded data removed]",
      "text/latex": [
       "$\\displaystyle x{\\left(t \\right)} = - A + A e^{- t} \\cos{\\left(\\sqrt{3} t \\right)} + B e^{- t} \\sin{\\left(\\sqrt{3} t \\right)} + t \\left(A - \\sqrt{3} B + 5\\right) + 1$"
      ],
      "text/plain": [
       "               -t                -t                                 \n",
       "x(t) = -A + A⋅ℯ  ⋅cos(√3⋅t) + B⋅ℯ  ⋅sin(√3⋅t) + t⋅(A - √3⋅B + 5) + 1"
      ]
     },
     "execution_count": 25,
     "metadata": {},
     "output_type": "execute_result"
    }
   ],
   "source": [
    "#Resolvendo com as condições iniciais dadas\n",
    "sol = sp.dsolve(eqa, ics={x(0): 1, x(t).diff(t,1).subs(t,0): 5})\n",
    "sol"
   ]
  },
  {
   "cell_type": "code",
   "execution_count": 26,
   "metadata": {},
   "outputs": [
    {
     "data": {
      "image/png": "[encoded data removed]",
      "text/latex": [
       "$\\displaystyle 0 = 2 \\left(\\sqrt{3} A \\sin{\\left(\\sqrt{3} t \\right)} - A \\cos{\\left(\\sqrt{3} t \\right)} - B \\sin{\\left(\\sqrt{3} t \\right)} - \\sqrt{3} B \\cos{\\left(\\sqrt{3} t \\right)}\\right) e^{- t}$"
      ],
      "text/plain": [
       "                                                                     -t\n",
       "0 = 2⋅(√3⋅A⋅sin(√3⋅t) - A⋅cos(√3⋅t) - B⋅sin(√3⋅t) - √3⋅B⋅cos(√3⋅t))⋅ℯ  "
      ]
     },
     "execution_count": 26,
     "metadata": {},
     "output_type": "execute_result"
    }
   ],
   "source": [
    "#aceleração conforme as ics:\n",
    "eqa2 = sp.Eq(0,sol.rhs.diff(t,2)) #Colocamos aceleração em 0, que é quando a oscilação entra em repouso completo\n",
    "eqa2"
   ]
  },
  {
   "cell_type": "code",
   "execution_count": 27,
   "metadata": {},
   "outputs": [
    {
     "data": {
      "image/png": "[encoded data removed]",
      "text/latex": [
       "$\\displaystyle \\frac{2 \\sqrt{3} \\operatorname{atan}{\\left(\\frac{- \\sqrt{3} A + B + 2 \\sqrt{A^{2} + B^{2}}}{A + \\sqrt{3} B} \\right)}}{3}$"
      ],
      "text/plain": [
       "         ⎛                 _________⎞\n",
       "         ⎜                ╱  2    2 ⎟\n",
       "         ⎜-√3⋅A + B + 2⋅╲╱  A  + B  ⎟\n",
       "2⋅√3⋅atan⎜──────────────────────────⎟\n",
       "         ⎝         A + √3⋅B         ⎠\n",
       "─────────────────────────────────────\n",
       "                  3                  "
      ]
     },
     "execution_count": 27,
     "metadata": {},
     "output_type": "execute_result"
    }
   ],
   "source": [
    "#Resolvemos em t\n",
    "sol2 = sp.solve(eqa2, t)\n",
    "sol2 = sol2[0] if type(sol2) is list else sol2 #isolando o termo positivo\n",
    "sol2"
   ]
  }
 ],
 "metadata": {
  "kernelspec": {
   "display_name": "Python 3 (ipykernel)",
   "language": "python",
   "name": "python3"
  },
  "language_info": {
   "codemirror_mode": {
    "name": "ipython",
    "version": 3
   },
   "file_extension": ".py",
   "mimetype": "text/x-python",
   "name": "python",
   "nbconvert_exporter": "python",
   "pygments_lexer": "ipython3",
   "version": "3.11.7"
  }
 },
 "nbformat": 4,
 "nbformat_minor": 2
}
