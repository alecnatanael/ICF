{
 "cells": [
  {
   "cell_type": "code",
   "execution_count": 1,
   "metadata": {},
   "outputs": [],
   "source": [
    "import numpy as np"
   ]
  },
  {
   "cell_type": "code",
   "execution_count": 2,
   "metadata": {},
   "outputs": [],
   "source": [
    "## Constantes\n",
    "gravidade = 9.81\n",
    "coef_arrasto = 12.5\n",
    "massa = 68\n",
    "\n",
    "### função da velocidade:\n",
    "\n",
    "def velocidade(tempo):\n",
    "    termo1 = (massa*gravidade)/coef_arrasto\n",
    "    expo = -((coef_arrasto/massa)*tempo)\n",
    "    termo2 = (1-np.exp(expo))\n",
    "\n",
    "    return termo1*termo2\n"
   ]
  },
  {
   "cell_type": "code",
   "execution_count": 3,
   "metadata": {},
   "outputs": [],
   "source": [
    "### Integral com regra do trapézio repetida\n",
    "\n",
    "def integral_trapezio_repetida(x, f): ### Argumentos: vetor com vários valores de \"x\" no intervalo escolhido; função \"f\" a ser integrada \n",
    "\n",
    "    h = x[1] - x[0]\n",
    "\n",
    "    I = f(x[0]) + f(x[len(x)-1]) # Início e fim\n",
    "\n",
    "    #Integrando os pontos do meio\n",
    "    for i in range(1, len(x)-1):\n",
    "        I += 2*f(x[i])\n",
    "\n",
    "    I = (h/2)*I\n",
    "    \n",
    "    return I"
   ]
  },
  {
   "cell_type": "code",
   "execution_count": 4,
   "metadata": {},
   "outputs": [],
   "source": [
    "### função para calcular altura em determinado tempo de queda:\n",
    "\n",
    "def altura_queda(t, hi):\n",
    "    tempos = np.linspace(0, t, 1000) ### malha com 1000 valores de tempo, indo de 0s ao tempo t escolhido\n",
    "    distacia = integral_trapezio_repetida(tempos, velocidade)\n",
    "\n",
    "    altura = hi - distacia\n",
    "    return altura\n"
   ]
  },
  {
   "cell_type": "code",
   "execution_count": 5,
   "metadata": {},
   "outputs": [
    {
     "name": "stdout",
     "output_type": "stream",
     "text": [
      "No instante t = 2s, a altitude do paraquedista é: 2982.58 metros.\n",
      "No instante t = 10s, a altitude do paraquedista é: 2710.46 metros.\n"
     ]
    }
   ],
   "source": [
    "### Calculando a altura do paraquedista nos instantes t=2; t=10. Considerando uma altura inicial de 3000 metros\n",
    "\n",
    "posicaot2 = altura_queda(2, 3000)\n",
    "posicaot10 = altura_queda(10, 3000)\n",
    "\n",
    "print(f'No instante t = 2s, a altitude do paraquedista é: {posicaot2:.2f} metros.')\n",
    "print(f'No instante t = 10s, a altitude do paraquedista é: {posicaot10:.2f} metros.')"
   ]
  }
 ],
 "metadata": {
  "kernelspec": {
   "display_name": "base",
   "language": "python",
   "name": "python3"
  },
  "language_info": {
   "codemirror_mode": {
    "name": "ipython",
    "version": 3
   },
   "file_extension": ".py",
   "mimetype": "text/x-python",
   "name": "python",
   "nbconvert_exporter": "python",
   "pygments_lexer": "ipython3",
   "version": "3.11.7"
  }
 },
 "nbformat": 4,
 "nbformat_minor": 2
}
