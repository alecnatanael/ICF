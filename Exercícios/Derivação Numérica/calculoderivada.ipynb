{
 "cells": [
  {
   "cell_type": "code",
   "execution_count": 1,
   "metadata": {},
   "outputs": [
    {
     "name": "stdout",
     "output_type": "stream",
     "text": [
      "-0.5424322810575211\n",
      "-0.5043217576429893\n",
      "-0.5004329293325505\n"
     ]
    }
   ],
   "source": [
    "import numpy as np\n",
    "\n",
    "\n",
    "x = np.pi/6 # Valor de x\n",
    "\n",
    "def f(x):\n",
    "    return np.cos(x)\n",
    "\n",
    "def fd(h):\n",
    "    fl = (1/h)*(f(x + h) - f(x))\n",
    "    return fl\n",
    "def bd(h):\n",
    "    fl = (1/h)*(f(x) - f(x - h))\n",
    "    return fl\n",
    "def cd(h):\n",
    "    fl = (1/(2*h))*(f(x + h) - f(x - h))\n",
    "    return fl\n",
    "def cd5(h):\n",
    "    fl5p1 = f(x - 2*h) - 8*f(x-h)\n",
    "    fl5p2 = 8*f(x+h) - f(x + 2*h)\n",
    "    fl = (1/(12*h))*(fl5p1 + fl5p2)\n",
    "    return fl\n",
    "\n",
    "h1 = 0.1\n",
    "h2 = 0.01\n",
    "h3 = 0.001 \n",
    "\n",
    "## Derivadas foward-difference:\n",
    "print(fd(h1))\n",
    "print(fd(h2))\n",
    "print(fd(h3))"
   ]
  },
  {
   "cell_type": "code",
   "execution_count": 3,
   "metadata": {},
   "outputs": [
    {
     "name": "stdout",
     "output_type": "stream",
     "text": [
      "-0.45590188541075993\n",
      "-0.495661575773676\n",
      "-0.499566904000881\n"
     ]
    }
   ],
   "source": [
    "# Derivadas back-difference:\n",
    "print(bd(h1))\n",
    "print(bd(h2))\n",
    "print(bd(h3))"
   ]
  },
  {
   "cell_type": "code",
   "execution_count": 6,
   "metadata": {},
   "outputs": [
    {
     "name": "stdout",
     "output_type": "stream",
     "text": [
      "-0.4991670832341405\n",
      "-0.4999916667083326\n",
      "-0.4999999166667157\n"
     ]
    }
   ],
   "source": [
    "# Derivadas central-difference:\n",
    "print(cd(h1))\n",
    "print(cd(h2))\n",
    "print(cd(h3))"
   ]
  },
  {
   "cell_type": "code",
   "execution_count": 11,
   "metadata": {},
   "outputs": [
    {
     "name": "stdout",
     "output_type": "stream",
     "text": [
      "-0.49999833531630283\n",
      "-0.4999999998333375\n",
      "-0.5000000000000929\n"
     ]
    }
   ],
   "source": [
    "# Derivadas cd -5 points:\n",
    "print(cd5(h1))\n",
    "print(cd5(h2))\n",
    "print(cd5(h3))"
   ]
  }
 ],
 "metadata": {
  "kernelspec": {
   "display_name": "base",
   "language": "python",
   "name": "python3"
  },
  "language_info": {
   "codemirror_mode": {
    "name": "ipython",
    "version": 3
   },
   "file_extension": ".py",
   "mimetype": "text/x-python",
   "name": "python",
   "nbconvert_exporter": "python",
   "pygments_lexer": "ipython3",
   "version": "3.11.7"
  }
 },
 "nbformat": 4,
 "nbformat_minor": 2
}
