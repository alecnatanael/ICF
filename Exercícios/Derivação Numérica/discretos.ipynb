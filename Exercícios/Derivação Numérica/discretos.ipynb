{
 "cells": [
  {
   "cell_type": "code",
   "execution_count": 1,
   "metadata": {},
   "outputs": [],
   "source": [
    "import numpy as np"
   ]
  },
  {
   "cell_type": "code",
   "execution_count": 2,
   "metadata": {},
   "outputs": [],
   "source": [
    "x = [0.398, 0.399, 0.400, 0.401, 0.402]\n",
    "f = [0.408591, 0.409671, 0.410752, 0.411834, 0.412915]\n",
    "\n",
    "## Calcule f'(x = 0.400)"
   ]
  },
  {
   "cell_type": "code",
   "execution_count": 3,
   "metadata": {},
   "outputs": [
    {
     "name": "stdout",
     "output_type": "stream",
     "text": [
      "1.0814999999999844\n"
     ]
    }
   ],
   "source": [
    "def discret_central_diff(x, xf, xb, fxf, fxb): # \"x\" que você quer calcular; \"xf\" posterior ao que você quer calcular; \"xb\", anterior ao que você quer calcular; \"fxf\" posterior ao f(x); \"fxb\" anterior ao f(x)\n",
    "    h = ((xf - x) + (x - xb))/2\n",
    "    fl = (1/(2*h))*(fxf - fxb)\n",
    "    return fl\n",
    "\n",
    "\n",
    "derivada = discret_central_diff(x[2], x[3], x[1], f[3], f[1])\n",
    "print(derivada)"
   ]
  },
  {
   "cell_type": "code",
   "execution_count": 4,
   "metadata": {},
   "outputs": [
    {
     "name": "stdout",
     "output_type": "stream",
     "text": [
      "1.081999999999971\n"
     ]
    }
   ],
   "source": [
    "def discret_foward_diff(x, xf, fx, fxf):\n",
    "    h = xf - x\n",
    "    fl = (1/h)*(fxf - fx)\n",
    "    return fl\n",
    "\n",
    "derivada = discret_foward_diff(x[2], x[3], f[2], f[3])\n",
    "print(derivada)"
   ]
  },
  {
   "cell_type": "code",
   "execution_count": 5,
   "metadata": {},
   "outputs": [
    {
     "name": "stdout",
     "output_type": "stream",
     "text": [
      "1.0809999999999977\n"
     ]
    }
   ],
   "source": [
    "def discret_back_diff(x, xb, fx, fxb):\n",
    "    h = x - xb\n",
    "    fl = (1/h)*(fx - fxb)\n",
    "    return fl\n",
    "\n",
    "derivada = discret_back_diff(x[2], x[1], f[2], f[1])\n",
    "print(derivada)"
   ]
  },
  {
   "cell_type": "code",
   "execution_count": 6,
   "metadata": {},
   "outputs": [
    {
     "name": "stdout",
     "output_type": "stream",
     "text": [
      "1.0816666666666466\n"
     ]
    }
   ],
   "source": [
    "def discret_central_diff_5(x, xf, xb, fxf1, fxf2, fxb1, fxb2):\n",
    "    h = ((xf - x) + (x - xb))/2\n",
    "    fl5p1 = fxb2 - 8*fxb1\n",
    "    fl5p2 = 8*fxf1 - fxf2\n",
    "    fl = (1/(12*h))*(fl5p1 + fl5p2)\n",
    "    return fl\n",
    "\n",
    "derivada = discret_central_diff_5(x[2], x[3], x[1], f[3], f[4], f[1], f[0])\n",
    "print(derivada)"
   ]
  },
  {
   "cell_type": "code",
   "execution_count": 7,
   "metadata": {},
   "outputs": [
    {
     "name": "stdout",
     "output_type": "stream",
     "text": [
      "0.9999999999732426\n"
     ]
    }
   ],
   "source": [
    "def discret_diff_2(x, xf, xb, fx, fxf, fxb):\n",
    "    h = ((xf - x) + (x - xb))/2\n",
    "    fll = (1/(h**2))*(fxf-(2*fx)+fxb)\n",
    "    return fll\n",
    "\n",
    "derivada2 = discret_diff_2(x[2], x[1], x[3], f[2], f[1], f[3])\n",
    "print(derivada2)"
   ]
  },
  {
   "cell_type": "code",
   "execution_count": 8,
   "metadata": {},
   "outputs": [
    {
     "name": "stdout",
     "output_type": "stream",
     "text": [
      "0.41075236006937743\n"
     ]
    }
   ],
   "source": [
    "def diff_2(h, x, f):\n",
    "    fll = (1/(h**2))*(f(x+h)-(2*f(x))+f(x-h))\n",
    "    return fll\n",
    "\n",
    "def f(x):\n",
    "    return np.sinh(x)\n",
    "\n",
    "h = 0.001\n",
    "d2 = diff_2(h, 0.4, f)\n",
    "print(d2)"
   ]
  }
 ],
 "metadata": {
  "kernelspec": {
   "display_name": "base",
   "language": "python",
   "name": "python3"
  },
  "language_info": {
   "codemirror_mode": {
    "name": "ipython",
    "version": 3
   },
   "file_extension": ".py",
   "mimetype": "text/x-python",
   "name": "python",
   "nbconvert_exporter": "python",
   "pygments_lexer": "ipython3",
   "version": "3.11.7"
  }
 },
 "nbformat": 4,
 "nbformat_minor": 2
}
