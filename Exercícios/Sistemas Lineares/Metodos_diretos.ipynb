{
 "cells": [
  {
   "cell_type": "code",
   "execution_count": 1,
   "metadata": {},
   "outputs": [],
   "source": [
    "import numpy as np"
   ]
  },
  {
   "cell_type": "markdown",
   "metadata": {},
   "source": [
    "Sistemas triangulares"
   ]
  },
  {
   "cell_type": "code",
   "execution_count": 2,
   "metadata": {},
   "outputs": [
    {
     "name": "stdout",
     "output_type": "stream",
     "text": [
      "[1.0, -2.0, 3.0]\n"
     ]
    }
   ],
   "source": [
    "def sistemas_triangulares(A, B): #Substituição Retroativa\n",
    "    n = len(A)\n",
    "    x = []\n",
    "\n",
    "    for i in range(0, n):   \n",
    "        x.append(0)\n",
    "\n",
    "    x[n-1] = B[n-1]/A[n-1][n-1]\n",
    "\n",
    "    c = 1\n",
    "    \n",
    "    for i in range(n-2, -1, -1):\n",
    "        soma = 0\n",
    "        c += 1\n",
    "        for j in range(n-1, i, -1):\n",
    "            soma += (A[i][j]*x[j])\n",
    "        x[n-c] = (B[i] - soma)/(A[i][i])\n",
    "\n",
    "    return x\n",
    "\n",
    "A = [[4, -2, 1],\n",
    "     [0, 3, -1.5],\n",
    "     [0, 0, 3]]\n",
    "\n",
    "B = [11, -10.5, 9]\n",
    "\n",
    "print(sistemas_triangulares(A, B))"
   ]
  },
  {
   "cell_type": "markdown",
   "metadata": {},
   "source": [
    "Método de eliminação de Gauss"
   ]
  },
  {
   "cell_type": "code",
   "execution_count": 3,
   "metadata": {},
   "outputs": [
    {
     "name": "stdout",
     "output_type": "stream",
     "text": [
      "3.00 2.00 4.00 \n",
      "\n",
      "0.00 0.33 0.67 \n",
      "\n",
      "0.00 0.00 -8.00 \n",
      "\n",
      "1.00 1.67 -0.00 "
     ]
    }
   ],
   "source": [
    "def eliminacao_Gauss(A, B):\n",
    "    n = len(A)\n",
    "    for k in range(0, n-1):\n",
    "        for i in range(k+1, n):\n",
    "            m = (A[i][k])/(A[k][k])\n",
    "\n",
    "            for j in range(k, n):\n",
    "                A[i][j] = A[i][j] - m*A[k][j]\n",
    "            B[i] = B[i] - m*B[k]       \n",
    "\n",
    "\n",
    "A = [[3, 2, 4],\n",
    "     [1, 1, 2],\n",
    "     [4, 3, -2]]\n",
    "\n",
    "B = [1, 2, 3]\n",
    "\n",
    "eliminacao_Gauss(A, B)\n",
    "\n",
    "for i in range(0, len(A)):\n",
    "    for j in range(0, len(A)):\n",
    "        print(f'{A[i][j]:.2f} ', end=\"\")\n",
    "    print('\\n')\n",
    "\n",
    "for i in range(0, len(B)):\n",
    "    print(f'{B[i]:.2f} ', end=\"\")\n"
   ]
  },
  {
   "cell_type": "markdown",
   "metadata": {},
   "source": [
    "Solução direta completa"
   ]
  },
  {
   "cell_type": "code",
   "execution_count": 2,
   "metadata": {},
   "outputs": [
    {
     "name": "stdout",
     "output_type": "stream",
     "text": [
      "-3.00 5.00 0.00 "
     ]
    }
   ],
   "source": [
    "def solucao_direta(A, B):\n",
    "    n = len(A)\n",
    "\n",
    "    # Triangulando com a Eliminação de Gauss\n",
    "    for k in range(0, n-1):\n",
    "        for i in range(k+1, n):\n",
    "            m = (A[i][k])/(A[k][k])\n",
    "\n",
    "            for j in range(k, n):\n",
    "                A[i][j] = A[i][j] - m*A[k][j]\n",
    "            B[i] = B[i] - m*B[k]\n",
    "\n",
    "\n",
    "    # Resolvendo o sistema triangular\n",
    "    x = []\n",
    "\n",
    "    for i in range(0, n):\n",
    "        x.append(0)\n",
    "\n",
    "    x[n-1] = B[n-1]/A[n-1][n-1]\n",
    "\n",
    "    c = 1\n",
    "    \n",
    "    for i in range(n-2, -1, -1):\n",
    "        soma = 0\n",
    "        c += 1\n",
    "        for j in range(n-1, i, -1):\n",
    "            soma += (A[i][j]*x[j])\n",
    "        x[n-c] = (B[i] - soma)/(A[i][i])\n",
    "\n",
    "    return x\n",
    "\n",
    "A = [[3, 2, 4],\n",
    "     [1, 1, 2],\n",
    "     [4, 3, -2]]\n",
    "\n",
    "B = [1, 2, 3]\n",
    "\n",
    "ans = solucao_direta(A, B)\n",
    "\n",
    "for i in range(0, len(ans)):\n",
    "    print(f'{ans[i]:.2f} ', end=\"\")\n"
   ]
  },
  {
   "cell_type": "markdown",
   "metadata": {},
   "source": [
    "Soluções do Professor:"
   ]
  },
  {
   "cell_type": "code",
   "execution_count": 8,
   "metadata": {},
   "outputs": [
    {
     "name": "stdout",
     "output_type": "stream",
     "text": [
      "-3.00 5.00 0.00 "
     ]
    }
   ],
   "source": [
    "def subsretro(Ac, bc): #Substituição Retroativa\n",
    "\n",
    "    n = len(Ac)\n",
    "    x = [0.0]*n #Vetor nulo com n elementos\n",
    "\n",
    "    for i in range(n, 0, -1):\n",
    "        soma = 0.0\n",
    "        if (i==n):\n",
    "            x[i-1] = bc[i-1]/(Ac[i-1][i-1])\n",
    "\n",
    "        else:\n",
    "            for j in range(i+1, n+1, 1):\n",
    "                soma += Ac[i-1][j-1]*x[j-1]\n",
    "                x[i-1] = (1/Ac[i-1][i-1])*(bc[i-1]-soma)\n",
    "\n",
    "    return x\n",
    "\n",
    "\n",
    "def gausseliminacao(Ac, bc): # Método da Eliminação de Gauss\n",
    "\n",
    "    n = len(Ac)\n",
    "    x = [0.0]*n\n",
    "\n",
    "    for k in range(1, n, 1):\n",
    "        for i in range(k+1, n+1, 1):\n",
    "            m = (Ac[i-1][k-1])/(Ac[k-1][k-1])\n",
    "            Ac[i-1][k-1] = 0.0\n",
    "            bc[i-1] = bc[i-1] - (m*bc[k-1])\n",
    "\n",
    "            for j in range(k+1, n+1, 1):\n",
    "                Ac[i-1][j-1] = Ac[i-1][j-1] - (m*Ac[k-1][j-1])\n",
    "\n",
    "    return Ac, bc\n",
    "\n",
    "\n",
    "\n",
    "A = [[3, 2, 4],\n",
    "     [1, 1, 2],\n",
    "     [4, 3, -2]]\n",
    "\n",
    "B = [1, 2, 3]\n",
    "\n",
    "gausseliminacao(A, B)\n",
    "ans = subsretro(A, B)\n",
    "\n",
    "for i in range(0, len(ans)):\n",
    "    print(f'{ans[i]:.2f} ', end=\"\")\n"
   ]
  }
 ],
 "metadata": {
  "kernelspec": {
   "display_name": "Python 3 (ipykernel)",
   "language": "python",
   "name": "python3"
  },
  "language_info": {
   "codemirror_mode": {
    "name": "ipython",
    "version": 3
   },
   "file_extension": ".py",
   "mimetype": "text/x-python",
   "name": "python",
   "nbconvert_exporter": "python",
   "pygments_lexer": "ipython3",
   "version": "3.11.7"
  }
 },
 "nbformat": 4,
 "nbformat_minor": 2
}
