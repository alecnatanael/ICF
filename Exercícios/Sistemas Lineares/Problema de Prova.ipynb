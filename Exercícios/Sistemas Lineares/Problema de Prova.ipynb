{
 "cells": [
  {
   "cell_type": "code",
   "execution_count": 1,
   "metadata": {},
   "outputs": [],
   "source": [
    "import numpy as np\n",
    "from ICF2 import *"
   ]
  },
  {
   "cell_type": "code",
   "execution_count": 2,
   "metadata": {},
   "outputs": [],
   "source": [
    "### Raciocínio no caderno ###\n",
    "\n",
    "\n",
    "A = [[4, -1, 0, -1, 0, 0, 0, 0, 0],\n",
    "     [-1, 4, -1, 0, -1, 0, 0, 0, 0],\n",
    "     [0, -1, 4, 0, 0, -1, 0, 0, 0],\n",
    "     [-1, 0, 0, 4, -1, 0, -1, 0, 0],\n",
    "     [0, -1, 0, -1, 4, -1, 0, -1, 0],\n",
    "     [0, 0, -1, 0, -1, 4, 0, 0, -1],\n",
    "     [0, 0, 0, -1, 0, 0, 4, -1, 0],\n",
    "     [0, 0, 0, 0, -1, 0, -1, 4, -1],\n",
    "     [0, 0, 0, 0, 0, -1, 0, -1, 4]\n",
    "    ]\n",
    "\n",
    "B = [50, 50, 150, 0, 0, 100, 50, 50, 150]\n",
    "\n",
    "chute = [20, 20, 20, 20, 20, 20, 20, 20, 20]\n",
    "\n",
    "eps = 0.000001"
   ]
  },
  {
   "cell_type": "code",
   "execution_count": 3,
   "metadata": {},
   "outputs": [
    {
     "name": "stdout",
     "output_type": "stream",
     "text": [
      "[32.14285580175263, 49.99999821186066, 67.85714151603835, 28.571426783289226, 49.999997317790985, 71.42856964043209, 32.14285580175263, 49.99999821186066, 67.85714151603835]\n"
     ]
    }
   ],
   "source": [
    "Ts = gauss_jacobi(A, B, chute, eps)\n",
    "print(Ts)"
   ]
  },
  {
   "cell_type": "code",
   "execution_count": 4,
   "metadata": {},
   "outputs": [
    {
     "name": "stdout",
     "output_type": "stream",
     "text": [
      "[32.14285660734666, 49.99999946448952, 67.85714258938762, 28.57142803591809, 49.99999946448952, 71.42857116081619, 32.1428568751019, 49.99999973224476, 67.85714272326524]\n"
     ]
    }
   ],
   "source": [
    "Ts = gauss_seidel(A, B, chute, eps)\n",
    "print(Ts)"
   ]
  },
  {
   "cell_type": "code",
   "execution_count": 5,
   "metadata": {},
   "outputs": [
    {
     "name": "stdout",
     "output_type": "stream",
     "text": [
      "[32.14285714285714, 50.0, 67.85714285714285, 28.57142857142857, 50.0, 71.42857142857143, 32.142857142857146, 50.00000000000001, 67.85714285714286]\n"
     ]
    }
   ],
   "source": [
    "Ts = solucao_direta(A, B)\n",
    "print(Ts)"
   ]
  }
 ],
 "metadata": {
  "kernelspec": {
   "display_name": "base",
   "language": "python",
   "name": "python3"
  },
  "language_info": {
   "codemirror_mode": {
    "name": "ipython",
    "version": 3
   },
   "file_extension": ".py",
   "mimetype": "text/x-python",
   "name": "python",
   "nbconvert_exporter": "python",
   "pygments_lexer": "ipython3",
   "version": "3.11.7"
  }
 },
 "nbformat": 4,
 "nbformat_minor": 2
}
