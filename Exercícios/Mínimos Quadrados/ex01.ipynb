{
 "cells": [
  {
   "cell_type": "code",
   "execution_count": 1,
   "metadata": {},
   "outputs": [],
   "source": [
    "import numpy as np\n",
    "from ICF2 import *"
   ]
  },
  {
   "cell_type": "markdown",
   "metadata": {},
   "source": [
    "Função para obter todos os Gs precisos"
   ]
  },
  {
   "cell_type": "code",
   "execution_count": 2,
   "metadata": {},
   "outputs": [],
   "source": [
    "def funcgs3(xc): ## Personalizar de acordo com os gs utilizados\n",
    "\n",
    "    n = len(xc)\n",
    "\n",
    "    g1 = np.array([1.0]*n)\n",
    "    g2 = np.array(xc)\n",
    "    g3 = np.array(xc)**2\n",
    "\n",
    "    gm = [g1, g2, g3]\n",
    "\n",
    "    return gm"
   ]
  },
  {
   "cell_type": "markdown",
   "metadata": {},
   "source": [
    "Função para montar o sistema linear a ser resolvido"
   ]
  },
  {
   "cell_type": "code",
   "execution_count": 3,
   "metadata": {},
   "outputs": [],
   "source": [
    "def montarMatriz(gs, xc, fx):\n",
    "    n = len(gs)\n",
    "    m = len(xc)\n",
    "    A = np.zeros((n, n))\n",
    "    B = np.array([0.0]*n) ## é realmente importante especificar que é um float com 0.0 !\n",
    "\n",
    "    \n",
    "\n",
    "    for i in range(0, n):\n",
    "        for j in range(0, n):\n",
    "            for k in range(0, m):\n",
    "                A[i][j] += gs[j][k]*gs[i][k]\n",
    "    \n",
    "    for i in range(0, n):\n",
    "        soma = 0\n",
    "        for k in range(0, m):\n",
    "            soma += fx[k]*gs[i][k]\n",
    "        B[i] = soma\n",
    "\n",
    "    return A, B"
   ]
  },
  {
   "cell_type": "markdown",
   "metadata": {},
   "source": [
    "Resolução Detalhada:"
   ]
  },
  {
   "cell_type": "code",
   "execution_count": 4,
   "metadata": {},
   "outputs": [
    {
     "name": "stdout",
     "output_type": "stream",
     "text": [
      "1.00 1.00 1.00 1.00 1.00 1.00 1.00 1.00 1.00 1.00 1.00 1.00 1.00 1.00 1.00 \n",
      "\n",
      "0.10 0.20 0.50 0.65 0.70 0.80 0.90 1.10 1.23 1.35 1.57 1.70 1.75 1.80 1.94 \n",
      "\n",
      "0.01 0.04 0.25 0.42 0.49 0.64 0.81 1.21 1.51 1.82 2.46 2.89 3.06 3.24 3.76 \n",
      "\n"
     ]
    }
   ],
   "source": [
    "## Pontos:\n",
    "fx = [0.19, 0.36, 0.75, 0.87, 0.91, 0.96, 0.99, 0.99, 0.94, 0.87, 0.67, 0.51, 0.43, 0.36, 0.11]\n",
    "x = [0.1, 0.2, 0.5, 0.65, 0.70, 0.80, 0.90, 1.10, 1.23, 1.35, 1.57, 1.70, 1.75, 1.80, 1.94]\n",
    "\n",
    "gs = funcgs3(x) ## Obter os Gs \n",
    "for i in range(0, len(gs)):\n",
    "    for k in range(0, len(x)):\n",
    "        print(f'{gs[i][k]:.2f} ', end=\"\")\n",
    "    print('\\n')    "
   ]
  },
  {
   "cell_type": "code",
   "execution_count": 5,
   "metadata": {},
   "outputs": [
    {
     "name": "stdout",
     "output_type": "stream",
     "text": [
      "15.00 16.29 22.63 \n",
      "\n",
      "16.29 22.63 34.92 \n",
      "\n",
      "22.63 34.92 57.09 \n",
      "\n",
      "\n",
      "\n",
      "9.91 10.28 12.66 "
     ]
    }
   ],
   "source": [
    "A, B = montarMatriz(gs, x, fx) ## Montar o sistema linear (mostrado abaixo)\n",
    "for i in range(0, len(A)):\n",
    "    for j in range(0, len(A)):\n",
    "        print(f'{A[i][j]:.2f} ', end=\"\")\n",
    "    print('\\n')  \n",
    "\n",
    "print('\\n')\n",
    "\n",
    "for i in range(0, len(B)):\n",
    "    print(f'{B[i]:.2f} ', end=\"\") \n"
   ]
  },
  {
   "cell_type": "code",
   "execution_count": 6,
   "metadata": {},
   "outputs": [
    {
     "name": "stdout",
     "output_type": "stream",
     "text": [
      "[0.0008161387241202078, 1.995321590526388, -0.9989893804178136]\n"
     ]
    }
   ],
   "source": [
    "alphas = solucao_direta(A, B) ## Obter os coeficientes alpha resolvendo o sistema linear (ver \"Sistemas Lineares\")\n",
    "print(alphas)\n"
   ]
  },
  {
   "cell_type": "markdown",
   "metadata": {},
   "source": [
    "Resolução Simplificada"
   ]
  },
  {
   "cell_type": "code",
   "execution_count": 9,
   "metadata": {},
   "outputs": [
    {
     "name": "stdout",
     "output_type": "stream",
     "text": [
      "[0.0008161387241202078, 1.995321590526388, -0.9989893804178136]\n",
      "0.0001398212884069185\n"
     ]
    }
   ],
   "source": [
    "## Resolvendo diretamente:\n",
    "\n",
    "fx = [0.19, 0.36, 0.75, 0.87, 0.91, 0.96, 0.99, 0.99, 0.94, 0.87, 0.67, 0.51, 0.43, 0.36, 0.11]\n",
    "x = [0.1, 0.2, 0.5, 0.65, 0.70, 0.80, 0.90, 1.10, 1.23, 1.35, 1.57, 1.70, 1.75, 1.80, 1.94]\n",
    "\n",
    "\n",
    "gm = funcgs3(x)\n",
    "  \n",
    "\n",
    "alphas = minimos_quadrados(x, fx, gm) # Função definida na Biblioteca\n",
    "print(alphas)\n",
    "\n",
    "erro = erro_min_quadrados(x, fx, gm, alphas) # Função definida na Biblioteca\n",
    "print(erro)\n"
   ]
  },
  {
   "cell_type": "markdown",
   "metadata": {},
   "source": [
    "Plotando o Gráfico"
   ]
  },
  {
   "cell_type": "code",
   "execution_count": 8,
   "metadata": {},
   "outputs": [
    {
     "data": {
      "image/png": "[encoded data removed]",
      "text/plain": [
       "<Figure size 640x480 with 1 Axes>"
      ]
     },
     "metadata": {},
     "output_type": "display_data"
    }
   ],
   "source": [
    "import matplotlib.pyplot as plt\n",
    "\n",
    "xm = np.linspace(x[0], x[-1], 100) ## cria uma \"malha fina\" de 100 pontos do primeiro x ao último\n",
    "\n",
    "\n",
    "fi = [] ## Obtendo todos os phis\n",
    "\n",
    "for i in range(0, len(xm)):\n",
    "    fi.append(alphas[0]*1.0 + alphas[1]*xm[i] + alphas[2]*(xm[i]**2)) \n",
    "\n",
    "# xm, fi = obtempontosP(x, alphas, 100)\n",
    "\n",
    "\n",
    "\n",
    "plt.scatter(x, fx, color='red', label='Dados exp.')\n",
    "plt.plot(xm, fi, color='blue', label='Ajuste')\n",
    "plt.grid()\n",
    "plt.show()"
   ]
  }
 ],
 "metadata": {
  "kernelspec": {
   "display_name": "Python 3 (ipykernel)",
   "language": "python",
   "name": "python3"
  },
  "language_info": {
   "codemirror_mode": {
    "name": "ipython",
    "version": 3
   },
   "file_extension": ".py",
   "mimetype": "text/x-python",
   "name": "python",
   "nbconvert_exporter": "python",
   "pygments_lexer": "ipython3",
   "version": "3.11.7"
  }
 },
 "nbformat": 4,
 "nbformat_minor": 2
}
