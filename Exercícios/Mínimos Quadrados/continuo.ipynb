{
 "cells": [
  {
   "cell_type": "code",
   "execution_count": 1,
   "metadata": {},
   "outputs": [],
   "source": [
    "import numpy as np\n",
    "from ICF2 import *"
   ]
  },
  {
   "cell_type": "code",
   "execution_count": 3,
   "metadata": {},
   "outputs": [],
   "source": [
    "def funcgs2(xc): ## para g1 = 1; g2 = x;\n",
    "\n",
    "    m = len(xc)\n",
    "\n",
    "    g1 = np.array([1.0]*m)\n",
    "    g2 = np.array(xc)\n",
    "\n",
    "    gm = [g1, g2]\n",
    "\n",
    "    return gm"
   ]
  },
  {
   "cell_type": "code",
   "execution_count": null,
   "metadata": {},
   "outputs": [],
   "source": [
    "def montarMatriz_continuo(gs, xc, fx): # Para minimos quadrados caso contínuo\n",
    "    n = len(gs)\n",
    "    m = len(xc)\n",
    "    A = np.zeros((n, n))\n",
    "    B = np.array([0.0]*n) ## é realmente importante especificar que é um float com 0.0 !\n",
    "\n",
    "\n",
    "\n",
    "    for i in range(0, n):\n",
    "        for j in range(0, n):\n",
    "\n",
    "            # Regra do Trapézio Repetida\n",
    "            h = gs[i][1]*gs[j][1] - gs[i][0]*gs[j][0]\n",
    "\n",
    "            I = gs[i][0]*gs[j][0] + gs[i][-1]*gs[j][-1] # Início e fim\n",
    "\n",
    "            #Integrando os pontos do meio\n",
    "            for k in range(1, len(xc)-1):\n",
    "                I += 2*gs[i][k]*gs[j][k]\n",
    "\n",
    "            I = (h/2)*I\n",
    "\n",
    "            A[i][j] = I\n",
    "    \n",
    "    for i in range(0, n):\n",
    "        soma = 0\n",
    "        for k in range(0, m):\n",
    "            soma += fx[k]*gs[i][k]\n",
    "        B[i] = soma\n",
    "\n",
    "    return A, B"
   ]
  }
 ],
 "metadata": {
  "kernelspec": {
   "display_name": "base",
   "language": "python",
   "name": "python3"
  },
  "language_info": {
   "codemirror_mode": {
    "name": "ipython",
    "version": 3
   },
   "file_extension": ".py",
   "mimetype": "text/x-python",
   "name": "python",
   "nbconvert_exporter": "python",
   "pygments_lexer": "ipython3",
   "version": "3.11.7"
  }
 },
 "nbformat": 4,
 "nbformat_minor": 2
}
