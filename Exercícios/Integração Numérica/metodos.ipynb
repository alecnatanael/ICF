{
 "cells": [
  {
   "cell_type": "code",
   "execution_count": 2,
   "metadata": {},
   "outputs": [],
   "source": [
    "import numpy as np"
   ]
  },
  {
   "cell_type": "code",
   "execution_count": 3,
   "metadata": {},
   "outputs": [],
   "source": [
    "def f(x):\n",
    "    return np.exp(3*x)*np.sin(2*x)"
   ]
  },
  {
   "cell_type": "code",
   "execution_count": 18,
   "metadata": {},
   "outputs": [],
   "source": [
    "def regra_trapezio(a, b):\n",
    "    h = b-a\n",
    "    return (h/2)*(f(a)+f(b))"
   ]
  },
  {
   "cell_type": "code",
   "execution_count": 5,
   "metadata": {},
   "outputs": [],
   "source": [
    "def pontos(a, b, m): # ATENÇÃO: m deve ser par para utilizar o método de Simpson\n",
    "    x = []\n",
    "    tam = np.abs(b-a)\n",
    "    h = tam/(m-1)\n",
    "\n",
    "\n",
    "    for i in range (0, m):\n",
    "        x.append(a + i*h)\n",
    "    \n",
    "    return x"
   ]
  },
  {
   "cell_type": "code",
   "execution_count": 8,
   "metadata": {},
   "outputs": [],
   "source": [
    "def regra_trapezio_repetida(x):\n",
    "\n",
    "    h = x[1] - x[0]\n",
    "\n",
    "    I = f(x[0]) + f(x[len(x)-1]) # Início e fim\n",
    "\n",
    "    #Integrando os pontos do meio\n",
    "    for i in range(1, len(x)-1):\n",
    "        I += 2*f(x[i])\n",
    "\n",
    "    I = (h/2)*I\n",
    "    \n",
    "    return I"
   ]
  },
  {
   "cell_type": "code",
   "execution_count": 9,
   "metadata": {},
   "outputs": [],
   "source": [
    "def regra_simpson(a, b):\n",
    "    h = (b-a)/2\n",
    "    return (h/3)*(f(a)+4*f(a+h)+f(b))"
   ]
  },
  {
   "cell_type": "code",
   "execution_count": 24,
   "metadata": {},
   "outputs": [],
   "source": [
    "def regra_simpson_repetida(x):\n",
    "    h = x[1] - x[0]\n",
    "\n",
    "    I = f(x[0]) + f(x[len(x)-1]) # Início e fim\n",
    "\n",
    "    #Integrando os pontos do meio\n",
    "    for i in range(1, len(x)-1):\n",
    "        if (i % 2) == 0:\n",
    "            I += 2*f(x[i])\n",
    "        else:\n",
    "            I += 4*f(x[i])\n",
    "\n",
    "    I = (h/3)*I\n",
    "    \n",
    "    return I"
   ]
  },
  {
   "cell_type": "code",
   "execution_count": 28,
   "metadata": {},
   "outputs": [
    {
     "name": "stdout",
     "output_type": "stream",
     "text": [
      "4.143259655194083\n",
      "2.5886286326596024\n",
      "2.583696403247485\n",
      "2.5886010108253474\n"
     ]
    }
   ],
   "source": [
    "A = 0\n",
    "B = np.pi/4\n",
    "M = 100000\n",
    "\n",
    "pts = pontos(A, B, M)\n",
    "\n",
    "print(regra_trapezio(A, B)) # Pior!\n",
    "print(regra_trapezio_repetida(pts)) # Melhor!\n",
    "print(regra_simpson(A, B)) # 3º\n",
    "print(regra_simpson_repetida(pts)) # 2º\n",
    "\n",
    "## 2.5886286325071758894847087955643013094029116821749511183275739583"
   ]
  }
 ],
 "metadata": {
  "kernelspec": {
   "display_name": "Python 3 (ipykernel)",
   "language": "python",
   "name": "python3"
  },
  "language_info": {
   "codemirror_mode": {
    "name": "ipython",
    "version": 3
   },
   "file_extension": ".py",
   "mimetype": "text/x-python",
   "name": "python",
   "nbconvert_exporter": "python",
   "pygments_lexer": "ipython3",
   "version": "3.11.7"
  }
 },
 "nbformat": 4,
 "nbformat_minor": 2
}
