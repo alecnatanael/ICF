{
 "cells": [
  {
   "cell_type": "code",
   "execution_count": 93,
   "metadata": {},
   "outputs": [],
   "source": [
    "import numpy as np\n",
    "from numpy.linalg import qr"
   ]
  },
  {
   "cell_type": "markdown",
   "metadata": {},
   "source": [
    "Problema das Molas Acopladas"
   ]
  },
  {
   "cell_type": "code",
   "execution_count": 94,
   "metadata": {},
   "outputs": [],
   "source": [
    "# A1 = 0.75\n",
    "# A2 = 0.38\n",
    "# A3 = 0.45\n",
    "m = 0.5\n",
    "k = 0.35\n",
    "\n",
    "\n",
    "Matriz = np.array([[(2*k)/m, (-k)/m, (-k)/m],\n",
    "          [(-k)/m, (2*k)/m, (-k)/m],\n",
    "          [(-k)/m, (-k)/m, (2*k)/m]])\n",
    "\n",
    "# Autovetor = [A1, A2, A3]"
   ]
  },
  {
   "cell_type": "code",
   "execution_count": 95,
   "metadata": {},
   "outputs": [],
   "source": [
    "def m_potencia(A, y0, iteracoes):\n",
    "    n = len(A)\n",
    "\n",
    "    z = A @ y0 # Produto de Matrizes\n",
    "    for i in range(1, iteracoes):\n",
    "        alpha = z[0]\n",
    "        for j in range(0, n):  # Máxima componente\n",
    "            if z[j] > alpha: alpha = z[j]\n",
    "\n",
    "        y = z/alpha\n",
    "        z = A @ y\n",
    "\n",
    "    return alpha\n",
    "\n",
    "\n",
    "def autovalores_qr(MatrizA, Q, R, precisao):\n",
    "    \n",
    "    An = np.copy(MatrizA)\n",
    "\n",
    "    # Iterando até obter a diagonal com autovalores\n",
    "    maior = precisao + 1.0\n",
    "    while (maior > precisao):\n",
    "        # Obtendo o maior valor absoluto de A\n",
    "        maior = abs(An[1][0])  \n",
    "        for i in range(0, len(An)):\n",
    "            for j in range(0, len(An)):\n",
    "                if (i > j):\n",
    "                    if (abs(An[i][j]) > maior):\n",
    "                        maior = abs(An[i][j])\n",
    "        \n",
    "        An = R @ Q  # Próximo A\n",
    "        Q, R = qr(An) # Novos Q, R\n",
    "\n",
    "    \n",
    "    # Obtendo os autovetores\n",
    "    Autovalores = []\n",
    "    for i in range(0, len(An)):\n",
    "        for j in range(0, len(An)):\n",
    "            if (i == j):\n",
    "                Autovalores.append(An[i][j])\n",
    "    \n",
    "\n",
    "    return Autovalores"
   ]
  },
  {
   "cell_type": "code",
   "execution_count": 96,
   "metadata": {},
   "outputs": [
    {
     "name": "stdout",
     "output_type": "stream",
     "text": [
      "2.1\n"
     ]
    }
   ],
   "source": [
    "# Descobrindo o maior autovalor\n",
    "\n",
    "y0 = np.array([-1, -1, 1])\n",
    "\n",
    "mautov = m_potencia(Matriz, y0, 100)\n",
    "print(mautov)"
   ]
  },
  {
   "cell_type": "code",
   "execution_count": 97,
   "metadata": {},
   "outputs": [
    {
     "name": "stdout",
     "output_type": "stream",
     "text": [
      "[2.1, 2.0999999999999996, -1.00222348398871e-17]\n"
     ]
    }
   ],
   "source": [
    "# Descobrindo todos os autovalores\n",
    "\n",
    "Q, R = qr(Matriz) # Obtendo as matrizes Q, R\n",
    "autovalores = autovalores_qr(Matriz, Q, R, 0.001)\n",
    "print(autovalores) # [2.1, 2.1, 0]"
   ]
  },
  {
   "cell_type": "code",
   "execution_count": 98,
   "metadata": {},
   "outputs": [
    {
     "name": "stdout",
     "output_type": "stream",
     "text": [
      "1.449137674618944\n"
     ]
    }
   ],
   "source": [
    "# Calculando a frequência:\n",
    "\n",
    "frequencia = np.sqrt(mautov)\n",
    "print(frequencia)"
   ]
  },
  {
   "cell_type": "code",
   "execution_count": 99,
   "metadata": {},
   "outputs": [
    {
     "name": "stdout",
     "output_type": "stream",
     "text": [
      "[2.10000000e+00 3.25999283e-17 2.10000000e+00]\n"
     ]
    }
   ],
   "source": [
    "autova, autovet = np.linalg.eig(Matriz)\n",
    "\n",
    "print(autova)"
   ]
  },
  {
   "cell_type": "markdown",
   "metadata": {},
   "source": [
    "Bônus: Calculando as Amplitudes"
   ]
  },
  {
   "cell_type": "code",
   "execution_count": 100,
   "metadata": {},
   "outputs": [
    {
     "name": "stdout",
     "output_type": "stream",
     "text": [
      "[[ 0.81649658 -0.57735027  0.10126028]\n",
      " [-0.40824829 -0.57735027 -0.75227804]\n",
      " [-0.40824829 -0.57735027  0.65101775]]\n"
     ]
    }
   ],
   "source": [
    "# As Amplitudes são os autovetores da matriz A:\n",
    "\n",
    "print(autovet)"
   ]
  }
 ],
 "metadata": {
  "kernelspec": {
   "display_name": "base",
   "language": "python",
   "name": "python3"
  },
  "language_info": {
   "codemirror_mode": {
    "name": "ipython",
    "version": 3
   },
   "file_extension": ".py",
   "mimetype": "text/x-python",
   "name": "python",
   "nbconvert_exporter": "python",
   "pygments_lexer": "ipython3",
   "version": "3.11.7"
  }
 },
 "nbformat": 4,
 "nbformat_minor": 2
}
