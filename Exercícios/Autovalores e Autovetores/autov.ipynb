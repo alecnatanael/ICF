{
 "cells": [
  {
   "cell_type": "code",
   "execution_count": 23,
   "metadata": {},
   "outputs": [],
   "source": [
    "import numpy as np"
   ]
  },
  {
   "cell_type": "markdown",
   "metadata": {},
   "source": [
    "Método da Potência"
   ]
  },
  {
   "cell_type": "code",
   "execution_count": 24,
   "metadata": {},
   "outputs": [],
   "source": [
    "def m_potencia(A, y0, k):\n",
    "    n = len(A)\n",
    "\n",
    "    z = A @ y0 # Produto de Matrizes\n",
    "    for i in range(1, k):\n",
    "        alpha = z[0]\n",
    "        for j in range(0, n):  # Máxima componente\n",
    "            if z[j] > alpha: alpha = z[j]\n",
    "\n",
    "        y = z/alpha\n",
    "        z = A @ y\n",
    "\n",
    "    return alpha\n",
    "\n",
    "\n",
    "def m_potencia_inv(A, y0, k):\n",
    "    A_inv = np.linalg.inv(A)\n",
    "    n = len(A)\n",
    "\n",
    "    z = A_inv @ y0 # Produto de Matrizes\n",
    "    for i in range(1, k):\n",
    "        alpha = z[0]\n",
    "        for j in range(0, n):  # Máxima componente\n",
    "            if z[j] > alpha: alpha = z[j]\n",
    "\n",
    "        y = z/alpha\n",
    "        z = A_inv @ y\n",
    "\n",
    "    return 1/alpha"
   ]
  },
  {
   "cell_type": "code",
   "execution_count": 25,
   "metadata": {},
   "outputs": [
    {
     "name": "stdout",
     "output_type": "stream",
     "text": [
      "7.444374823657817\n",
      "1.3375351956376105\n"
     ]
    }
   ],
   "source": [
    "A = np.array([[2,1,0], [2,5,3], [0,1,6]])\n",
    "\n",
    "y0 = np.array([1,1,1])\n",
    "\n",
    "\n",
    "maior = m_potencia(A, y0, 100)\n",
    "menor = m_potencia_inv(A, y0, 100)\n",
    "print(maior)\n",
    "print(menor)\n",
    "\n"
   ]
  },
  {
   "cell_type": "markdown",
   "metadata": {},
   "source": [
    "Método QR"
   ]
  },
  {
   "cell_type": "code",
   "execution_count": 26,
   "metadata": {},
   "outputs": [
    {
     "name": "stdout",
     "output_type": "stream",
     "text": [
      "[[ 7.44434930e+00  1.66260729e+00 -1.47177101e+00]\n",
      " [ 4.95308687e-05  4.21811551e+00  2.64181349e-01]\n",
      " [ 0.00000000e+00 -4.04568854e-10  1.33753520e+00]]\n",
      "[7.44434929862239, 4.218115505777112, 1.337535195600506]\n"
     ]
    }
   ],
   "source": [
    "from numpy.linalg import qr\n",
    "\n",
    "A = [[2, 1, 0],\n",
    "     [2, 5, 3],\n",
    "     [0, 1, 6]]\n",
    "\n",
    "Q, R = qr(A) # Obtendo as matrizes Q, R\n",
    "\n",
    "\n",
    "def autovalores_qr(MatrizA, Q, R, precisao):\n",
    "    \n",
    "    An = np.copy(MatrizA)\n",
    "\n",
    "    # Iterando até obter a diagonal com autovalores\n",
    "    maior = precisao + 1.0\n",
    "    while (maior > precisao):\n",
    "        # Obtendo o maior valor absoluto de A\n",
    "        maior = abs(An[1][0])  \n",
    "        for i in range(0, len(An)):\n",
    "            for j in range(0, len(An)):\n",
    "                if (i > j):\n",
    "                    if (abs(An[i][j]) > maior):\n",
    "                        maior = abs(An[i][j])\n",
    "        \n",
    "        An = np.dot(R, Q)  # Próximo A\n",
    "        Q, R = qr(An) # Novos Q, R\n",
    "\n",
    "    print(An)\n",
    "    # Obtendo os autovetores\n",
    "    Autovalores = []\n",
    "    for i in range(0, len(An)):\n",
    "        for j in range(0, len(An)):\n",
    "            if (i == j):\n",
    "                Autovalores.append(An[i][j])\n",
    "    \n",
    "\n",
    "    return Autovalores\n",
    "    \n",
    "    \n",
    "Autov = autovalores_qr(A, Q, R, 0.0001)\n",
    "print(Autov)"
   ]
  },
  {
   "cell_type": "code",
   "execution_count": 27,
   "metadata": {},
   "outputs": [
    {
     "name": "stdout",
     "output_type": "stream",
     "text": [
      "[1.3375352  4.21808998 7.44437482]\n",
      "[[ 0.82787594  0.36589541  0.1493214 ]\n",
      " [-0.54843867  0.81158895  0.81296166]\n",
      " [ 0.11762848 -0.45546012  0.56284674]]\n"
     ]
    }
   ],
   "source": [
    "autova, autovet = np.linalg.eig(A)\n",
    "\n",
    "print(autova)\n",
    "print(autovet)"
   ]
  }
 ],
 "metadata": {
  "kernelspec": {
   "display_name": "base",
   "language": "python",
   "name": "python3"
  },
  "language_info": {
   "codemirror_mode": {
    "name": "ipython",
    "version": 3
   },
   "file_extension": ".py",
   "mimetype": "text/x-python",
   "name": "python",
   "nbconvert_exporter": "python",
   "pygments_lexer": "ipython3",
   "version": "3.11.7"
  }
 },
 "nbformat": 4,
 "nbformat_minor": 2
}
