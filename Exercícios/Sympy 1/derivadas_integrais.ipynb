{
  "cells": [
    {
      "cell_type": "code",
      "execution_count": 4,
      "metadata": {
        "trusted": true
      },
      "outputs": [
        {
          "data": {
            "text/latex": [
              "$\\displaystyle \\sin{\\left(4 x^{2} \\right)} \\cos{\\left(3 x \\right)}$"
            ],
            "text/plain": [
              "   ⎛   2⎞         \n",
              "sin⎝4⋅x ⎠⋅cos(3⋅x)"
            ]
          },
          "execution_count": 4,
          "metadata": {},
          "output_type": "execute_result"
        }
      ],
      "source": [
        "import sympy as sp\n",
        "sp.init_printing()\n",
        "\n",
        "x = sp.Symbol('x')\n",
        "f = sp.Function('f')(x)\n",
        "f = sp.cos(3*x)*sp.sin(4*x**2)\n",
        "f"
      ]
    },
    {
      "cell_type": "code",
      "execution_count": 5,
      "metadata": {
        "trusted": true
      },
      "outputs": [
        {
          "data": {
            "text/latex": [
              "$\\displaystyle 8 x \\cos{\\left(3 x \\right)} \\cos{\\left(4 x^{2} \\right)} - 3 \\sin{\\left(3 x \\right)} \\sin{\\left(4 x^{2} \\right)}$"
            ],
            "text/plain": [
              "                ⎛   2⎞                 ⎛   2⎞\n",
              "8⋅x⋅cos(3⋅x)⋅cos⎝4⋅x ⎠ - 3⋅sin(3⋅x)⋅sin⎝4⋅x ⎠"
            ]
          },
          "execution_count": 5,
          "metadata": {},
          "output_type": "execute_result"
        }
      ],
      "source": [
        "derivada = sp.diff(f,x)\n",
        "derivada"
      ]
    },
    {
      "cell_type": "code",
      "execution_count": 6,
      "metadata": {
        "trusted": true
      },
      "outputs": [
        {
          "data": {
            "text/latex": [
              "$\\displaystyle \\sin{\\left(4 x^{2} \\right)} \\cos{\\left(3 x \\right)}$"
            ],
            "text/plain": [
              "   ⎛   2⎞         \n",
              "sin⎝4⋅x ⎠⋅cos(3⋅x)"
            ]
          },
          "execution_count": 6,
          "metadata": {},
          "output_type": "execute_result"
        }
      ],
      "source": [
        "a, b = sp.symbols('a,b')\n",
        "f"
      ]
    },
    {
      "cell_type": "code",
      "execution_count": 7,
      "metadata": {
        "trusted": true
      },
      "outputs": [
        {
          "data": {
            "text/latex": [
              "$\\displaystyle a b \\sin{\\left(4 x^{2} \\right)} \\cos{\\left(3 x \\right)}$"
            ],
            "text/plain": [
              "       ⎛   2⎞         \n",
              "a⋅b⋅sin⎝4⋅x ⎠⋅cos(3⋅x)"
            ]
          },
          "execution_count": 7,
          "metadata": {},
          "output_type": "execute_result"
        }
      ],
      "source": [
        "integral = sp.integrate(f, a, b)\n",
        "integral"
      ]
    }
  ],
  "metadata": {
    "kernelspec": {
      "display_name": "Python (Pyodide)",
      "language": "python",
      "name": "python"
    },
    "language_info": {
      "codemirror_mode": {
        "name": "python",
        "version": 3
      },
      "file_extension": ".py",
      "mimetype": "text/x-python",
      "name": "python",
      "nbconvert_exporter": "python",
      "pygments_lexer": "ipython3",
      "version": "3.8"
    }
  },
  "nbformat": 4,
  "nbformat_minor": 4
}
