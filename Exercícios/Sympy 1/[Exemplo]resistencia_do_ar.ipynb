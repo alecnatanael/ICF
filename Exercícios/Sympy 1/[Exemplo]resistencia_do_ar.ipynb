{
 "cells": [
  {
   "cell_type": "code",
   "execution_count": 3,
   "metadata": {},
   "outputs": [
    {
     "data": {
      "image/png": "[encoded data removed]",
      "text/latex": [
       "$\\displaystyle \\frac{d}{d t} v{\\left(t \\right)} = g - k v{\\left(t \\right)}$"
      ],
      "text/plain": [
       "d                    \n",
       "──(v(t)) = g - k⋅v(t)\n",
       "dt                   "
      ]
     },
     "execution_count": 3,
     "metadata": {},
     "output_type": "execute_result"
    }
   ],
   "source": [
    "import sympy as sp\n",
    "sp.init_printing()\n",
    "\n",
    "t, g, k = sp.symbols(\"t, g, k\")\n",
    "v = sp.Function('v')\n",
    "#eq = sp.Derivative(v,t) + k*v - g\n",
    "eq = sp.Eq(v(t).diff(t,1), g - k*v(t))\n",
    "eq"
   ]
  },
  {
   "cell_type": "code",
   "execution_count": 4,
   "metadata": {},
   "outputs": [
    {
     "data": {
      "image/png": "[encoded data removed]",
      "text/latex": [
       "$\\displaystyle v{\\left(t \\right)} = \\frac{g}{k} + \\frac{\\left(- g + 2 k\\right) e^{- k t}}{k}$"
      ],
      "text/plain": [
       "                       -k⋅t\n",
       "       g   (-g + 2⋅k)⋅ℯ    \n",
       "v(t) = ─ + ────────────────\n",
       "       k          k        "
      ]
     },
     "execution_count": 4,
     "metadata": {},
     "output_type": "execute_result"
    }
   ],
   "source": [
    "#sol = sp.dsolve(eq, v)\n",
    "sol = sp.dsolve(eq, ics={v(0):2})\n",
    "sol"
   ]
  },
  {
   "cell_type": "code",
   "execution_count": 5,
   "metadata": {},
   "outputs": [
    {
     "data": {
      "image/png": "[encoded data removed]",
      "text/latex": [
       "$\\displaystyle - g + k \\frac{d}{d t} y{\\left(t \\right)} + \\frac{d^{2}}{d t^{2}} y{\\left(t \\right)}$"
      ],
      "text/plain": [
       "                    2      \n",
       "       d           d       \n",
       "-g + k⋅──(y(t)) + ───(y(t))\n",
       "       dt           2      \n",
       "                  dt       "
      ]
     },
     "execution_count": 5,
     "metadata": {},
     "output_type": "execute_result"
    }
   ],
   "source": [
    "\n",
    "y = sp.Function('y')(t)\n",
    "eq2 = sp.Derivative(y,t,t) + k*sp.Derivative(y,t) - g\n",
    "eq2"
   ]
  },
  {
   "cell_type": "code",
   "execution_count": 6,
   "metadata": {},
   "outputs": [
    {
     "data": {
      "image/png": "[encoded data removed]",
      "text/latex": [
       "$\\displaystyle y{\\left(t \\right)} = C_{1} + C_{2} e^{- k t} + \\frac{g t}{k}$"
      ],
      "text/plain": [
       "                -k⋅t   g⋅t\n",
       "y(t) = C₁ + C₂⋅ℯ     + ───\n",
       "                        k "
      ]
     },
     "execution_count": 6,
     "metadata": {},
     "output_type": "execute_result"
    }
   ],
   "source": [
    "soly = sp.dsolve(eq2,y)\n",
    "soly"
   ]
  },
  {
   "cell_type": "code",
   "execution_count": 9,
   "metadata": {},
   "outputs": [
    {
     "data": {
      "image/png": "[encoded data removed]",
      "text/latex": [
       "$\\displaystyle \\frac{d^{2}}{d t^{2}} y{\\left(t \\right)} = g - k \\frac{d}{d t} y{\\left(t \\right)}$"
      ],
      "text/plain": [
       "  2                       \n",
       " d                d       \n",
       "───(y(t)) = g - k⋅──(y(t))\n",
       "  2               dt      \n",
       "dt                        "
      ]
     },
     "execution_count": 9,
     "metadata": {},
     "output_type": "execute_result"
    }
   ],
   "source": [
    "#Com condições iniciais\n",
    "\n",
    "y = sp.Function('y')\n",
    "eq3 = sp.Eq(y(t).diff(t,2), g - k*y(t).diff(t,1))\n",
    "eq3"
   ]
  },
  {
   "cell_type": "code",
   "execution_count": 23,
   "metadata": {},
   "outputs": [
    {
     "data": {
      "image/png": "[encoded data removed]",
      "text/latex": [
       "$\\displaystyle y{\\left(t \\right)} = \\frac{g t}{k} + \\frac{g e^{- k t}}{k^{2}} + \\frac{- g + 20 k^{2}}{k^{2}}$"
      ],
      "text/plain": [
       "                -k⋅t            2\n",
       "       g⋅t   g⋅ℯ       -g + 20⋅k \n",
       "y(t) = ─── + ─────── + ──────────\n",
       "        k        2          2    \n",
       "                k          k     "
      ]
     },
     "execution_count": 23,
     "metadata": {},
     "output_type": "execute_result"
    }
   ],
   "source": [
    "ysol = sp.dsolve(eq3, ics={y(0):20, y(t).diff(t,1).subs(t,0): 0})\n",
    "ysol"
   ]
  }
 ],
 "metadata": {
  "kernelspec": {
   "display_name": "Python 3 (ipykernel)",
   "language": "python",
   "name": "python3"
  }
 },
 "nbformat": 4,
 "nbformat_minor": 2
}
