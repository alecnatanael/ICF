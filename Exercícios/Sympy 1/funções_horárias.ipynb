{
 "cells": [
  {
   "cell_type": "code",
   "execution_count": 1,
   "metadata": {},
   "outputs": [
    {
     "data": {
      "text/latex": [
       "$\\displaystyle g + \\frac{d}{d t} v{\\left(t \\right)}$"
      ],
      "text/plain": [
       "    d       \n",
       "g + ──(v(t))\n",
       "    dt      "
      ]
     },
     "execution_count": 1,
     "metadata": {},
     "output_type": "execute_result"
    }
   ],
   "source": [
    "import sympy as sp\n",
    "sp.init_printing()\n",
    "t , g = sp.symbols('t,g')\n",
    "v = sp.Function('v')(t)\n",
    "equacao = sp.Derivative(v,t) + g\n",
    "equacao"
   ]
  },
  {
   "cell_type": "code",
   "execution_count": 2,
   "metadata": {},
   "outputs": [
    {
     "data": {
      "text/latex": [
       "$\\displaystyle v{\\left(t \\right)} = C_{1} - g t$"
      ],
      "text/plain": [
       "v(t) = C₁ - g⋅t"
      ]
     },
     "execution_count": 2,
     "metadata": {},
     "output_type": "execute_result"
    }
   ],
   "source": [
    "solucao = sp.dsolve(equacao, v)\n",
    "solucao"
   ]
  },
  {
   "cell_type": "code",
   "execution_count": 3,
   "metadata": {},
   "outputs": [
    {
     "data": {
      "text/latex": [
       "$\\displaystyle y{\\left(t \\right)} = C_{1} + C_{2} t - \\frac{g t^{2}}{2}$"
      ],
      "text/plain": [
       "                      2\n",
       "                   g⋅t \n",
       "y(t) = C₁ + C₂⋅t - ────\n",
       "                    2  "
      ]
     },
     "execution_count": 3,
     "metadata": {},
     "output_type": "execute_result"
    }
   ],
   "source": [
    "y = sp.Function('y')(t)\n",
    "eq2 = sp.Derivative(y,t,t) + g\n",
    "sol_y = sp.dsolve(eq2,y)\n",
    "sol_y"
   ]
  },
  {
   "cell_type": "code",
   "execution_count": 4,
   "metadata": {},
   "outputs": [
    {
     "data": {
      "text/latex": [
       "$\\displaystyle \\frac{d^{2}}{d t^{2}} y{\\left(t \\right)} = - g$"
      ],
      "text/plain": [
       "  2           \n",
       " d            \n",
       "───(y(t)) = -g\n",
       "  2           \n",
       "dt            "
      ]
     },
     "execution_count": 4,
     "metadata": {},
     "output_type": "execute_result"
    }
   ],
   "source": [
    "y = sp.Function('y')\n",
    "eq2 = sp.Eq(y(t).diff(t,2),-g)\n",
    "eq2"
   ]
  },
  {
   "cell_type": "code",
   "execution_count": 6,
   "metadata": {},
   "outputs": [
    {
     "data": {
      "text/latex": [
       "$\\displaystyle y{\\left(t \\right)} = - \\frac{g t^{2}}{2} + 10$"
      ],
      "text/plain": [
       "            2     \n",
       "         g⋅t      \n",
       "y(t) = - ──── + 10\n",
       "          2       "
      ]
     },
     "execution_count": 6,
     "metadata": {},
     "output_type": "execute_result"
    }
   ],
   "source": [
    "solucaoY = sp.dsolve(eq2, ics={y(0):10, y(t).diff(t,1).subs(t,0):0})\n",
    "solucaoY"
   ]
  }
 ],
 "metadata": {
  "kernelspec": {
   "display_name": "Python 3 (ipykernel)",
   "language": "python",
   "name": "python3"
  },
  "language_info": {
   "codemirror_mode": {
    "name": "ipython",
    "version": 3
   },
   "file_extension": ".py",
   "mimetype": "text/x-python",
   "name": "python",
   "nbconvert_exporter": "python",
   "pygments_lexer": "ipython3",
   "version": "3.11.7"
  }
 },
 "nbformat": 4,
 "nbformat_minor": 4
}
