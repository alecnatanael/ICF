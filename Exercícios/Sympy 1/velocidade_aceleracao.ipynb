{
 "cells": [
  {
   "cell_type": "code",
   "execution_count": 5,
   "metadata": {},
   "outputs": [
    {
     "data": {
      "image/png": "[encoded data removed]",
      "text/latex": [
       "$\\displaystyle g + \\frac{d}{d t} v{\\left(t \\right)}$"
      ],
      "text/plain": [
       "    d       \n",
       "g + ──(v(t))\n",
       "    dt      "
      ]
     },
     "execution_count": 5,
     "metadata": {},
     "output_type": "execute_result"
    }
   ],
   "source": [
    "import sympy as sp\n",
    "sp.init_printing()\n",
    "\n",
    "#A Velocidade de uma partícula segundo a segunda lei de newton é:\n",
    "\n",
    "t , g = sp.symbols('t,g')\n",
    "v = sp.Function('v')(t)\n",
    "eq = sp.diff(v,t) + g\n",
    "eq\n"
   ]
  },
  {
   "cell_type": "code",
   "execution_count": 6,
   "metadata": {},
   "outputs": [
    {
     "data": {
      "image/png": "[encoded data removed]",
      "text/latex": [
       "$\\displaystyle v{\\left(t \\right)} = C_{1} - g t$"
      ],
      "text/plain": [
       "v(t) = C₁ - g⋅t"
      ]
     },
     "execution_count": 6,
     "metadata": {},
     "output_type": "execute_result"
    }
   ],
   "source": [
    "#Resolvendo essa equação:\n",
    "\n",
    "sol_v = sp.dsolve(eq,v)\n",
    "sol_v"
   ]
  },
  {
   "cell_type": "code",
   "execution_count": 22,
   "metadata": {},
   "outputs": [
    {
     "data": {
      "image/png": "[encoded data removed]",
      "text/latex": [
       "$\\displaystyle \\frac{d^{2}}{d t^{2}} y{\\left(t \\right)} = - g$"
      ],
      "text/plain": [
       "  2           \n",
       " d            \n",
       "───(y(t)) = -g\n",
       "  2           \n",
       "dt            "
      ]
     },
     "execution_count": 22,
     "metadata": {},
     "output_type": "execute_result"
    }
   ],
   "source": [
    "# Já para a aceleração:\n",
    "\n",
    "y = sp.Function('y')\n",
    "eq2 = sp.Eq(y(t).diff(t,2), -g)\n",
    "eq2"
   ]
  },
  {
   "cell_type": "code",
   "execution_count": 36,
   "metadata": {},
   "outputs": [
    {
     "data": {
      "image/png": "[encoded data removed]",
      "text/latex": [
       "$\\displaystyle y{\\left(t \\right)} = - \\frac{g t^{2}}{2} + 4$"
      ],
      "text/plain": [
       "            2    \n",
       "         g⋅t     \n",
       "y(t) = - ──── + 4\n",
       "          2      "
      ]
     },
     "execution_count": 36,
     "metadata": {},
     "output_type": "execute_result"
    }
   ],
   "source": [
    "sol_y = sp.dsolve(eq2, ics={y(0):4, y(t).diff(t,1).subs(t, 0): 0})\n",
    "sol_y\n",
    "\n",
    "# A aceleração é dada por g"
   ]
  }
 ],
 "metadata": {
  "kernelspec": {
   "display_name": "Python 3 (ipykernel)",
   "language": "python",
   "name": "python3"
  },
  "language_info": {
   "codemirror_mode": {
    "name": "ipython",
    "version": 3
   },
   "file_extension": ".py",
   "mimetype": "text/x-python",
   "name": "python",
   "nbconvert_exporter": "python",
   "pygments_lexer": "ipython3",
   "version": "3.11.7"
  }
 },
 "nbformat": 4,
 "nbformat_minor": 4
}
